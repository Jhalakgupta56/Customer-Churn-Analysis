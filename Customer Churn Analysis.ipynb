{
 "cells": [
  {
   "cell_type": "markdown",
   "id": "63ac575e-5e80-46ea-b034-144b15ba4baa",
   "metadata": {},
   "source": [
    "# Import Libraries"
   ]
  },
  {
   "cell_type": "code",
   "execution_count": 1,
   "id": "224c8f5c-3930-49c3-a5ad-acc0559852b7",
   "metadata": {},
   "outputs": [],
   "source": [
    "import pandas as pd\n",
    "import numpy as np\n",
    "import matplotlib.pyplot as plt\n",
    "import seaborn as sns"
   ]
  },
  {
   "cell_type": "markdown",
   "id": "28ac504a-ebd9-437a-b80f-f4ed47439a0d",
   "metadata": {},
   "source": [
    "# Load your data set"
   ]
  },
  {
   "cell_type": "code",
   "execution_count": 2,
   "id": "82693b3c-fb9e-49ab-8d0b-6c942c94c615",
   "metadata": {},
   "outputs": [
    {
     "name": "stdout",
     "output_type": "stream",
     "text": [
      "   customerID  gender  SeniorCitizen Partner Dependents  tenure PhoneService  \\\n",
      "0  7590-VHVEG  Female              0     Yes         No       1           No   \n",
      "1  5575-GNVDE    Male              0      No         No      34          Yes   \n",
      "2  3668-QPYBK    Male              0      No         No       2          Yes   \n",
      "3  7795-CFOCW    Male              0      No         No      45           No   \n",
      "4  9237-HQITU  Female              0      No         No       2          Yes   \n",
      "\n",
      "      MultipleLines InternetService OnlineSecurity  ... DeviceProtection  \\\n",
      "0  No phone service             DSL             No  ...               No   \n",
      "1                No             DSL            Yes  ...              Yes   \n",
      "2                No             DSL            Yes  ...               No   \n",
      "3  No phone service             DSL            Yes  ...              Yes   \n",
      "4                No     Fiber optic             No  ...               No   \n",
      "\n",
      "  TechSupport StreamingTV StreamingMovies        Contract PaperlessBilling  \\\n",
      "0          No          No              No  Month-to-month              Yes   \n",
      "1          No          No              No        One year               No   \n",
      "2          No          No              No  Month-to-month              Yes   \n",
      "3         Yes          No              No        One year               No   \n",
      "4          No          No              No  Month-to-month              Yes   \n",
      "\n",
      "               PaymentMethod MonthlyCharges  TotalCharges Churn  \n",
      "0           Electronic check          29.85         29.85    No  \n",
      "1               Mailed check          56.95        1889.5    No  \n",
      "2               Mailed check          53.85        108.15   Yes  \n",
      "3  Bank transfer (automatic)          42.30       1840.75    No  \n",
      "4           Electronic check          70.70        151.65   Yes  \n",
      "\n",
      "[5 rows x 21 columns]\n"
     ]
    }
   ],
   "source": [
    "df = pd.read_csv(\"C:/Users/khushi/Downloads/WA_Fn-UseC_-Telco-Customer-Churn.csv\")\n",
    "print(df.head())"
   ]
  },
  {
   "cell_type": "markdown",
   "id": "f0bc27e3-d593-471e-a6ce-b9198ac89b21",
   "metadata": {},
   "source": [
    "# Some basic data checks"
   ]
  },
  {
   "cell_type": "code",
   "execution_count": 3,
   "id": "1328c910-4ee5-41a7-86d0-0f030f73ebfb",
   "metadata": {},
   "outputs": [
    {
     "name": "stdout",
     "output_type": "stream",
     "text": [
      "(7043, 21)\n"
     ]
    }
   ],
   "source": [
    "print(df.shape)"
   ]
  },
  {
   "cell_type": "code",
   "execution_count": 4,
   "id": "b8be00df-e533-4075-87c5-5db66e443b72",
   "metadata": {},
   "outputs": [
    {
     "name": "stdout",
     "output_type": "stream",
     "text": [
      "Index(['customerID', 'gender', 'SeniorCitizen', 'Partner', 'Dependents',\n",
      "       'tenure', 'PhoneService', 'MultipleLines', 'InternetService',\n",
      "       'OnlineSecurity', 'OnlineBackup', 'DeviceProtection', 'TechSupport',\n",
      "       'StreamingTV', 'StreamingMovies', 'Contract', 'PaperlessBilling',\n",
      "       'PaymentMethod', 'MonthlyCharges', 'TotalCharges', 'Churn'],\n",
      "      dtype='object')\n"
     ]
    }
   ],
   "source": [
    "print(df.columns)"
   ]
  },
  {
   "cell_type": "code",
   "execution_count": 5,
   "id": "3d8e4bc8-e07a-4b73-838f-e347056559e3",
   "metadata": {},
   "outputs": [
    {
     "name": "stdout",
     "output_type": "stream",
     "text": [
      "<bound method DataFrame.info of       customerID  gender  SeniorCitizen Partner Dependents  tenure  \\\n",
      "0     7590-VHVEG  Female              0     Yes         No       1   \n",
      "1     5575-GNVDE    Male              0      No         No      34   \n",
      "2     3668-QPYBK    Male              0      No         No       2   \n",
      "3     7795-CFOCW    Male              0      No         No      45   \n",
      "4     9237-HQITU  Female              0      No         No       2   \n",
      "...          ...     ...            ...     ...        ...     ...   \n",
      "7038  6840-RESVB    Male              0     Yes        Yes      24   \n",
      "7039  2234-XADUH  Female              0     Yes        Yes      72   \n",
      "7040  4801-JZAZL  Female              0     Yes        Yes      11   \n",
      "7041  8361-LTMKD    Male              1     Yes         No       4   \n",
      "7042  3186-AJIEK    Male              0      No         No      66   \n",
      "\n",
      "     PhoneService     MultipleLines InternetService OnlineSecurity  ...  \\\n",
      "0              No  No phone service             DSL             No  ...   \n",
      "1             Yes                No             DSL            Yes  ...   \n",
      "2             Yes                No             DSL            Yes  ...   \n",
      "3              No  No phone service             DSL            Yes  ...   \n",
      "4             Yes                No     Fiber optic             No  ...   \n",
      "...           ...               ...             ...            ...  ...   \n",
      "7038          Yes               Yes             DSL            Yes  ...   \n",
      "7039          Yes               Yes     Fiber optic             No  ...   \n",
      "7040           No  No phone service             DSL            Yes  ...   \n",
      "7041          Yes               Yes     Fiber optic             No  ...   \n",
      "7042          Yes                No     Fiber optic            Yes  ...   \n",
      "\n",
      "     DeviceProtection TechSupport StreamingTV StreamingMovies        Contract  \\\n",
      "0                  No          No          No              No  Month-to-month   \n",
      "1                 Yes          No          No              No        One year   \n",
      "2                  No          No          No              No  Month-to-month   \n",
      "3                 Yes         Yes          No              No        One year   \n",
      "4                  No          No          No              No  Month-to-month   \n",
      "...               ...         ...         ...             ...             ...   \n",
      "7038              Yes         Yes         Yes             Yes        One year   \n",
      "7039              Yes          No         Yes             Yes        One year   \n",
      "7040               No          No          No              No  Month-to-month   \n",
      "7041               No          No          No              No  Month-to-month   \n",
      "7042              Yes         Yes         Yes             Yes        Two year   \n",
      "\n",
      "     PaperlessBilling              PaymentMethod MonthlyCharges  TotalCharges  \\\n",
      "0                 Yes           Electronic check          29.85         29.85   \n",
      "1                  No               Mailed check          56.95        1889.5   \n",
      "2                 Yes               Mailed check          53.85        108.15   \n",
      "3                  No  Bank transfer (automatic)          42.30       1840.75   \n",
      "4                 Yes           Electronic check          70.70        151.65   \n",
      "...               ...                        ...            ...           ...   \n",
      "7038              Yes               Mailed check          84.80        1990.5   \n",
      "7039              Yes    Credit card (automatic)         103.20        7362.9   \n",
      "7040              Yes           Electronic check          29.60        346.45   \n",
      "7041              Yes               Mailed check          74.40         306.6   \n",
      "7042              Yes  Bank transfer (automatic)         105.65        6844.5   \n",
      "\n",
      "     Churn  \n",
      "0       No  \n",
      "1       No  \n",
      "2      Yes  \n",
      "3       No  \n",
      "4      Yes  \n",
      "...    ...  \n",
      "7038    No  \n",
      "7039    No  \n",
      "7040    No  \n",
      "7041   Yes  \n",
      "7042    No  \n",
      "\n",
      "[7043 rows x 21 columns]>\n"
     ]
    }
   ],
   "source": [
    "print(df.info)"
   ]
  },
  {
   "cell_type": "code",
   "execution_count": 6,
   "id": "9146ee9b-79eb-4aad-903a-21f0b831cd5e",
   "metadata": {},
   "outputs": [
    {
     "name": "stdout",
     "output_type": "stream",
     "text": [
      "<bound method NDFrame.describe of       customerID  gender  SeniorCitizen Partner Dependents  tenure  \\\n",
      "0     7590-VHVEG  Female              0     Yes         No       1   \n",
      "1     5575-GNVDE    Male              0      No         No      34   \n",
      "2     3668-QPYBK    Male              0      No         No       2   \n",
      "3     7795-CFOCW    Male              0      No         No      45   \n",
      "4     9237-HQITU  Female              0      No         No       2   \n",
      "...          ...     ...            ...     ...        ...     ...   \n",
      "7038  6840-RESVB    Male              0     Yes        Yes      24   \n",
      "7039  2234-XADUH  Female              0     Yes        Yes      72   \n",
      "7040  4801-JZAZL  Female              0     Yes        Yes      11   \n",
      "7041  8361-LTMKD    Male              1     Yes         No       4   \n",
      "7042  3186-AJIEK    Male              0      No         No      66   \n",
      "\n",
      "     PhoneService     MultipleLines InternetService OnlineSecurity  ...  \\\n",
      "0              No  No phone service             DSL             No  ...   \n",
      "1             Yes                No             DSL            Yes  ...   \n",
      "2             Yes                No             DSL            Yes  ...   \n",
      "3              No  No phone service             DSL            Yes  ...   \n",
      "4             Yes                No     Fiber optic             No  ...   \n",
      "...           ...               ...             ...            ...  ...   \n",
      "7038          Yes               Yes             DSL            Yes  ...   \n",
      "7039          Yes               Yes     Fiber optic             No  ...   \n",
      "7040           No  No phone service             DSL            Yes  ...   \n",
      "7041          Yes               Yes     Fiber optic             No  ...   \n",
      "7042          Yes                No     Fiber optic            Yes  ...   \n",
      "\n",
      "     DeviceProtection TechSupport StreamingTV StreamingMovies        Contract  \\\n",
      "0                  No          No          No              No  Month-to-month   \n",
      "1                 Yes          No          No              No        One year   \n",
      "2                  No          No          No              No  Month-to-month   \n",
      "3                 Yes         Yes          No              No        One year   \n",
      "4                  No          No          No              No  Month-to-month   \n",
      "...               ...         ...         ...             ...             ...   \n",
      "7038              Yes         Yes         Yes             Yes        One year   \n",
      "7039              Yes          No         Yes             Yes        One year   \n",
      "7040               No          No          No              No  Month-to-month   \n",
      "7041               No          No          No              No  Month-to-month   \n",
      "7042              Yes         Yes         Yes             Yes        Two year   \n",
      "\n",
      "     PaperlessBilling              PaymentMethod MonthlyCharges  TotalCharges  \\\n",
      "0                 Yes           Electronic check          29.85         29.85   \n",
      "1                  No               Mailed check          56.95        1889.5   \n",
      "2                 Yes               Mailed check          53.85        108.15   \n",
      "3                  No  Bank transfer (automatic)          42.30       1840.75   \n",
      "4                 Yes           Electronic check          70.70        151.65   \n",
      "...               ...                        ...            ...           ...   \n",
      "7038              Yes               Mailed check          84.80        1990.5   \n",
      "7039              Yes    Credit card (automatic)         103.20        7362.9   \n",
      "7040              Yes           Electronic check          29.60        346.45   \n",
      "7041              Yes               Mailed check          74.40         306.6   \n",
      "7042              Yes  Bank transfer (automatic)         105.65        6844.5   \n",
      "\n",
      "     Churn  \n",
      "0       No  \n",
      "1       No  \n",
      "2      Yes  \n",
      "3       No  \n",
      "4      Yes  \n",
      "...    ...  \n",
      "7038    No  \n",
      "7039    No  \n",
      "7040    No  \n",
      "7041   Yes  \n",
      "7042    No  \n",
      "\n",
      "[7043 rows x 21 columns]>\n"
     ]
    }
   ],
   "source": [
    "print(df.describe)"
   ]
  },
  {
   "cell_type": "markdown",
   "id": "bbc145fa-267c-4020-b05b-4e94a5937525",
   "metadata": {},
   "source": [
    "# Check for missing values"
   ]
  },
  {
   "cell_type": "code",
   "execution_count": 7,
   "id": "8904d61c-6df4-4e7d-a3a9-7177a4db6c3e",
   "metadata": {},
   "outputs": [
    {
     "data": {
      "text/plain": [
       "customerID          0\n",
       "gender              0\n",
       "SeniorCitizen       0\n",
       "Partner             0\n",
       "Dependents          0\n",
       "tenure              0\n",
       "PhoneService        0\n",
       "MultipleLines       0\n",
       "InternetService     0\n",
       "OnlineSecurity      0\n",
       "OnlineBackup        0\n",
       "DeviceProtection    0\n",
       "TechSupport         0\n",
       "StreamingTV         0\n",
       "StreamingMovies     0\n",
       "Contract            0\n",
       "PaperlessBilling    0\n",
       "PaymentMethod       0\n",
       "MonthlyCharges      0\n",
       "TotalCharges        0\n",
       "Churn               0\n",
       "dtype: int64"
      ]
     },
     "execution_count": 7,
     "metadata": {},
     "output_type": "execute_result"
    }
   ],
   "source": [
    "df.isnull().sum()"
   ]
  },
  {
   "cell_type": "markdown",
   "id": "db10f6f0-1c88-40ae-81f0-ce8ca41745d0",
   "metadata": {},
   "source": [
    "# Plotting some basic graphs using matplotlib and seaborn"
   ]
  },
  {
   "cell_type": "markdown",
   "id": "32f99997-50d6-4eb9-a11f-a35f444e8adb",
   "metadata": {},
   "source": [
    "###### Churn Distribution"
   ]
  },
  {
   "cell_type": "code",
   "execution_count": 8,
   "id": "3adc110f-e681-4c73-9454-0723a09c64c3",
   "metadata": {
    "scrolled": true
   },
   "outputs": [
    {
     "data": {
      "image/png": "[encoded data removed]",
      "text/plain": [
       "<Figure size 640x480 with 1 Axes>"
      ]
     },
     "metadata": {},
     "output_type": "display_data"
    }
   ],
   "source": [
    "sns.countplot(x = 'Churn', data = df)\n",
    "plt.title('Churn Count')\n",
    "plt.show()"
   ]
  },
  {
   "cell_type": "markdown",
   "id": "5d7e5c57-daa3-44c3-8de4-48ba87e509d4",
   "metadata": {},
   "source": [
    "###### Monthly charges distribution"
   ]
  },
  {
   "cell_type": "code",
   "execution_count": 9,
   "id": "b602ff52-b16a-4de6-ab90-e6ef112d8201",
   "metadata": {},
   "outputs": [
    {
     "data": {
      "image/png": "[encoded data removed]",
      "text/plain": [
       "<Figure size 640x480 with 1 Axes>"
      ]
     },
     "metadata": {},
     "output_type": "display_data"
    }
   ],
   "source": [
    "plt.hist(df['MonthlyCharges'], bins = 20, color = 'green')\n",
    "plt.title('Monthly Charges Distribution')\n",
    "plt.xlabel('Monthly Charges')\n",
    "plt.ylabel('Count')\n",
    "plt.show()"
   ]
  },
  {
   "cell_type": "markdown",
   "id": "cecb26b4-47ab-42f5-9cd8-47050f57f358",
   "metadata": {},
   "source": [
    "# Correlation and Model building (for customer churn prediction)"
   ]
  },
  {
   "cell_type": "markdown",
   "id": "7d659df5-680b-49d3-a513-81e3c06400df",
   "metadata": {},
   "source": [
    "###### Correlation Matrix"
   ]
  },
  {
   "cell_type": "code",
   "execution_count": 10,
   "id": "02da9198-5618-48a6-8dbd-abeabb619027",
   "metadata": {},
   "outputs": [],
   "source": [
    "import matplotlib.pyplot as plt\n",
    "import seaborn as sns "
   ]
  },
  {
   "cell_type": "code",
   "execution_count": 11,
   "id": "22902455-b81e-41a9-ade7-b111e798e49f",
   "metadata": {},
   "outputs": [
    {
     "data": {
      "image/png": "[encoded data removed]",
      "text/plain": [
       "<Figure size 1500x1000 with 2 Axes>"
      ]
     },
     "metadata": {},
     "output_type": "display_data"
    }
   ],
   "source": [
    "plt.figure(figsize=(15,10))\n",
    "sns.heatmap(df.corr(numeric_only = True), annot = True, cmap = 'coolwarm')\n",
    "plt.title('Correlation Heatmap')\n",
    "plt.show()"
   ]
  }
 ],
 "metadata": {
  "kernelspec": {
   "display_name": "Python 3 (ipykernel)",
   "language": "python",
   "name": "python3"
  },
  "language_info": {
   "codemirror_mode": {
    "name": "ipython",
    "version": 3
   },
   "file_extension": ".py",
   "mimetype": "text/x-python",
   "name": "python",
   "nbconvert_exporter": "python",
   "pygments_lexer": "ipython3",
   "version": "3.13.3"
  }
 },
 "nbformat": 4,
 "nbformat_minor": 5
}
